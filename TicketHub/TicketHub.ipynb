{
 "cells": [
  {
   "cell_type": "code",
   "execution_count": null,
   "metadata": {},
   "outputs": [],
   "source": [
    "import pprint\n",
    "import pandas as pd\n",
    "import datetime\n",
    "import requests\n",
    "import mysql.connector"
   ]
  },
  {
   "cell_type": "markdown",
   "metadata": {},
   "source": [
    "## Connect to MySQL"
   ]
  },
  {
   "cell_type": "code",
   "execution_count": null,
   "metadata": {},
   "outputs": [],
   "source": [
    "mydb = mysql.connector.connect(\n",
    "  host=\"localhost\",\n",
    "  user=\"root\",\n",
    "  passwd=\"root\",\n",
    "  database=\"tickethub\"\n",
    ")\n",
    "#Access token for StubHub\n",
    "access_token = 'S4fyyJo9IY7DkFKEBdWNAHAjpKff'"
   ]
  },
  {
   "cell_type": "markdown",
   "metadata": {},
   "source": [
    "## Execute this cell to get events id and description for NBA"
   ]
  },
  {
   "cell_type": "code",
   "execution_count": null,
   "metadata": {},
   "outputs": [],
   "source": [
    "inventory_url =  'https://api.stubhub.com/sellers/search/events/v3'\n",
    "headers['Authorization'] = 'Bearer ' + access_token\n",
    "headers['Accept'] = 'application/json'\n",
    "data = {'q': 'NBA Team Schedules',\n",
    "           'country':'US',\n",
    "           'parking':'False',\n",
    "           'rows':100}\n",
    "\n",
    "response = requests.get(\n",
    "    inventory_url ,\n",
    "    params=data,\n",
    "    headers=headers,\n",
    ")\n",
    "data = response.json()\n",
    "\n",
    "for i in data['events']:    \n",
    "    if len(i['performers'])==2:\n",
    "        teamOne = i['performers'][0]['name']\n",
    "        teamTwo = i['performers'][1]['name']\n",
    "    else:\n",
    "        teamOne  = i['performers'][0]['name']\n",
    "        teamTwo = i['performers'][0]['name']\n",
    "    matchCategory = \"NBA\"\n",
    "    sql = \"INSERT INTO MatchList (matchId , matchCategory, matchName, matchStadium, matchCity, matchState, teamOne, teamTwo, matchDate, minPrice, maxPrice ) VALUES (%s, %s, %s, %s, %s, %s, %s,  %s, %s,  %s, %s)\"\n",
    "    val = (i['id'],matchCategory,i['name'],i['venue']['name'],i['venue']['city'],i['venue']['state'],teamOne,teamTwo,i['eventDateLocal'],i['ticketInfo']['minListPrice'],i['ticketInfo']['maxListPrice'])\n",
    "    mycursor.execute(sql, val)\n",
    "    mydb.commit()\n",
    "    \n",
    "\n",
    "print(mycursor.rowcount, \"record inserted.\")"
   ]
  },
  {
   "cell_type": "markdown",
   "metadata": {},
   "source": [
    "## Execute this cell to get events id and description for NFL"
   ]
  },
  {
   "cell_type": "code",
   "execution_count": null,
   "metadata": {},
   "outputs": [],
   "source": [
    "inventory_url =  'https://api.stubhub.com/sellers/search/events/v3'\n",
    "headers['Authorization'] = 'Bearer ' + access_token\n",
    "headers['Accept'] = 'application/json'\n",
    "data = {'q': 'NFL Team Schedules',\n",
    "           'country':'US',\n",
    "           'parking':'False',\n",
    "           'rows':100}\n",
    "\n",
    "response = requests.get(\n",
    "    inventory_url ,\n",
    "    params=data,\n",
    "    headers=headers,\n",
    ")\n",
    "data = response.json()\n",
    "\n",
    "for i in data['events']:    \n",
    "    if len(i['performers'])==2:\n",
    "        teamOne = i['performers'][0]['name']\n",
    "        teamTwo = i['performers'][1]['name']\n",
    "    else:\n",
    "        teamOne  = i['performers'][0]['name']\n",
    "        teamTwo = i['performers'][0]['name']\n",
    "    matchCategory = \"NFL\"\n",
    "    sql = \"INSERT INTO MatchList (matchId , matchCategory, matchName, matchStadium, matchCity, matchState, teamOne, teamTwo, matchDate, minPrice, maxPrice ) VALUES (%s, %s, %s, %s, %s, %s, %s,  %s, %s,  %s, %s)\"\n",
    "    val = (i['id'],matchCategory,i['name'],i['venue']['name'],i['venue']['city'],i['venue']['state'],teamOne,teamTwo,i['eventDateLocal'],i['ticketInfo']['minListPrice'],i['ticketInfo']['maxListPrice'])\n",
    "    mycursor.execute(sql, val)\n",
    "    mydb.commit()\n",
    "    \n",
    "\n",
    "print(mycursor.rowcount, \"record inserted.\")"
   ]
  },
  {
   "cell_type": "markdown",
   "metadata": {},
   "source": [
    "## Execute this cell to get events id and description for NCAA"
   ]
  },
  {
   "cell_type": "code",
   "execution_count": null,
   "metadata": {},
   "outputs": [],
   "source": [
    "inventory_url =  'https://api.stubhub.com/sellers/search/events/v3'\n",
    "headers['Authorization'] = 'Bearer ' + access_token\n",
    "headers['Accept'] = 'application/json'\n",
    "data = {'q': 'NCAA Football Team Schedules',\n",
    "           'country':'US',\n",
    "           'parking':'False',\n",
    "           'rows':100}\n",
    "\n",
    "response = requests.get(\n",
    "    inventory_url ,\n",
    "    params=data,\n",
    "    headers=headers,\n",
    ")\n",
    "data = response.json()\n",
    "\n",
    "for i in data['events']:    \n",
    "    if len(i['performers'])==2:\n",
    "        teamOne = i['performers'][0]['name']\n",
    "        teamTwo = i['performers'][1]['name']\n",
    "    else:\n",
    "        teamOne  = i['performers'][0]['name']\n",
    "        teamTwo = i['performers'][0]['name']\n",
    "    matchCategory = \"NCAA\"\n",
    "    sql = \"INSERT INTO MatchList (matchId , matchCategory, matchName, matchStadium, matchCity, matchState, teamOne, teamTwo, matchDate, minPrice, maxPrice ) VALUES (%s, %s, %s, %s, %s, %s, %s,  %s, %s,  %s, %s)\"\n",
    "    val = (i['id'],matchCategory,i['name'],i['venue']['name'],i['venue']['city'],i['venue']['state'],teamOne,teamTwo,i['eventDateLocal'],i['ticketInfo']['minListPrice'],i['ticketInfo']['maxListPrice'])\n",
    "    mycursor.execute(sql, val)\n",
    "    mydb.commit()\n",
    "    \n",
    "\n",
    "print(mycursor.rowcount, \"record inserted.\")"
   ]
  },
  {
   "cell_type": "markdown",
   "metadata": {},
   "source": [
    "## Execute this cell to get events id and description for NHL"
   ]
  },
  {
   "cell_type": "code",
   "execution_count": null,
   "metadata": {},
   "outputs": [],
   "source": [
    "inventory_url =  'https://api.stubhub.com/sellers/search/events/v3'\n",
    "headers['Authorization'] = 'Bearer ' + access_token\n",
    "headers['Accept'] = 'application/json'\n",
    "data = {'q': 'NHL Team Schedules',\n",
    "           'country':'US',\n",
    "           'parking':'False',\n",
    "           'rows':100}\n",
    "\n",
    "response = requests.get(\n",
    "    inventory_url ,\n",
    "    params=data,\n",
    "    headers=headers,\n",
    ")\n",
    "data = response.json()\n",
    "\n",
    "for i in data['events']:    \n",
    "    if len(i['performers'])==2:\n",
    "        teamOne = i['performers'][0]['name']\n",
    "        teamTwo = i['performers'][1]['name']\n",
    "    else:\n",
    "        teamOne  = i['performers'][0]['name']\n",
    "        teamTwo = i['performers'][0]['name']\n",
    "    matchCategory = \"NHL\"\n",
    "    sql = \"INSERT INTO MatchList (matchId , matchCategory, matchName, matchStadium, matchCity, matchState, teamOne, teamTwo, matchDate, minPrice, maxPrice ) VALUES (%s, %s, %s, %s, %s, %s, %s,  %s, %s,  %s, %s)\"\n",
    "    val = (i['id'],matchCategory,i['name'],i['venue']['name'],i['venue']['city'],i['venue']['state'],teamOne,teamTwo,i['eventDateLocal'],i['ticketInfo']['minListPrice'],i['ticketInfo']['maxListPrice'])\n",
    "    mycursor.execute(sql, val)\n",
    "    mydb.commit()\n",
    "    \n",
    "\n",
    "print(mycursor.rowcount, \"record inserted.\")"
   ]
  },
  {
   "cell_type": "markdown",
   "metadata": {},
   "source": [
    "## Getting the ID's for all the matches from the database to fetch the listings available for each Matches."
   ]
  },
  {
   "cell_type": "code",
   "execution_count": 2,
   "metadata": {},
   "outputs": [
    {
     "name": "stdout",
     "output_type": "stream",
     "text": [
      "<mysql.connector.connection.MySQLConnection object at 0x000001D545AC9E88>\n"
     ]
    }
   ],
   "source": [
    "mydb = mysql.connector.connect(\n",
    "  host=\"localhost\",\n",
    "  user=\"root\",\n",
    "  passwd=\"root\",\n",
    "  database=\"tickethub\"\n",
    ")\n",
    "print(mydb) \n",
    "mycursor = mydb.cursor()\n",
    "\n",
    "mycursor.execute(\"Select matchId from matchlist\")\n",
    "result =mycursor.fetchall()\n",
    "id_list = []\n",
    "for i in range(len(result)):\n",
    "    id_list.append(myresult[i][0])"
   ]
  },
  {
   "cell_type": "markdown",
   "metadata": {},
   "source": [
    "## Storing the listings from the API to SQL database"
   ]
  },
  {
   "cell_type": "code",
   "execution_count": null,
   "metadata": {},
   "outputs": [],
   "source": [
    "#List of all the delivery methods available from StubHub API\n",
    "delivery = {\n",
    "1:\"Electronic\",\n",
    "2:\"Electronic Instant Download\",\n",
    "3:\"FedEx\",\n",
    "4:\"Pickup\",\n",
    "5:\"UPS\",\n",
    "6:\"Royal Mail\",\n",
    "7:\"Deutsche Post\" ,\n",
    "8:\"MobileId\",\n",
    "9:\"Mobile Ticket\",\n",
    "10:\"External Transfer\",\n",
    "11:\"Courier\",\n",
    "12:\"Mobile Ticket Instant\",\n",
    "13:\"MobileId Non Instant\",\n",
    "14:\"Electronic and Mobile Ticket\",\n",
    "15:\"Electronic and Mobile Ticket Instant\",\n",
    "16:\"LocalDelivery\" \n",
    "}\n",
    "\n",
    "\n",
    "for event_id in id_list:\n",
    "    headers = {}\n",
    "    access_token = 'GdX06q0NbYoFNsRPhxy4NraGQIAM'\n",
    "    inventory_url =  'https://api.stubhub.com/sellers/find/listings/v3/'\n",
    "    headers['Authorization'] = 'Bearer ' + access_token\n",
    "    headers['Accept'] = 'application/json'\n",
    "    data = {'eventid': event_id,\n",
    "               'rows': 30}\n",
    "\n",
    "    response = requests.get(\n",
    "        inventory_url ,\n",
    "        params=data,\n",
    "        headers=headers,\n",
    "    )\n",
    "    data = response.json()\n",
    "    \n",
    "    if 'listings' in data.keys():\n",
    "        for i in data['listings']:\n",
    "            delivery_list=[]\n",
    "            for x in i['deliveryTypeList']:\n",
    "                delivery_list.append(delivery[x])   \n",
    "            if 'zone' in i.keys():\n",
    "                zone = i['zone']\n",
    "            else:\n",
    "                zone = None\n",
    "            if 'row' in i.keys():\n",
    "                sql = \"INSERT INTO listings(matchIdRef,currentPrice,deliveryMethodList,listingId,quantity,rowInfo,sectionName,zoneName,sellerSectionName) VALUES (%s, %s, %s, %s, %s, %s, %s,  %s, %s)\"\n",
    "                val = (data['eventId'],i['pricePerProduct']['amount'],str(delivery_list),i['listingId'],i['quantity'],i['row'],i['sectionName'],zone,i['sellerSectionName'])\n",
    "                mycursor.execute(sql, val)\n",
    "                mydb.commit()\n",
    "            elif 'products' in i.keys():\n",
    "                for j in range(len(i['products'])):\n",
    "                    sql = \"INSERT INTO listings(matchIdRef,currentPrice,deliveryMethodList,listingId,quantity,rowInfo,seatNumbers,sectionName,zoneName,sellerSectionName) VALUES (%s, %s, %s, %s, %s, %s, %s,  %s, %s, %s)\"\n",
    "                    val = (data['eventId'],i['pricePerProduct']['amount'],str(delivery_list),i['listingId'],i['quantity'],i['products'][j]['row'],i['products'][j]['seat'],i['sectionName'],zone,i['sellerSectionName'])\n",
    "                    mycursor.execute(sql, val)\n",
    "                    mydb.commit()\n",
    "            else:\n",
    "                 for j in range(len(i['products'])):\n",
    "                    sql = \"INSERT INTO listings(matchIdRef,currentPrice,deliveryMethodList,listingId,quantity,rowInfo,sectionName,zoneName,sellerSectionName) VALUES (%s, %s, %s, %s, %s, %s, %s, %s, %s)\"\n",
    "                    val = (data['eventId'],i['pricePerProduct']['amount'],str(delivery_list),i['listingId'],i['quantity'],None,i['sectionName'],zone,i['sellerSectionName'])\n",
    "                    mycursor.execute(sql, val)\n",
    "                    mydb.commit()\n",
    "            "
   ]
  }
 ],
 "metadata": {
  "kernelspec": {
   "display_name": "Python 3",
   "language": "python",
   "name": "python3"
  },
  "language_info": {
   "codemirror_mode": {
    "name": "ipython",
    "version": 3
   },
   "file_extension": ".py",
   "mimetype": "text/x-python",
   "name": "python",
   "nbconvert_exporter": "python",
   "pygments_lexer": "ipython3",
   "version": "3.7.4"
  }
 },
 "nbformat": 4,
 "nbformat_minor": 2
}
